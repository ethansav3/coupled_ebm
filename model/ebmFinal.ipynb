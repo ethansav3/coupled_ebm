{
 "cells": [
  {
   "cell_type": "markdown",
   "metadata": {},
   "source": [
    "## Libraries"
   ]
  },
  {
   "cell_type": "code",
   "execution_count": 1,
   "metadata": {},
   "outputs": [],
   "source": [
    "import tempfile\n",
    "import os\n",
    "from subprocess import call\n",
    "import matplotlib.pyplot as plt\n",
    "from f90nml import *\n",
    "from array import *\n",
    "import numpy as np\n",
    "import pandas as pd \n",
    "import seaborn as sns\n",
    "from statistics import *\n",
    "import shutil\n",
    "import sys\n",
    "from matplotlib.ticker import FormatStrFormatter\n",
    "\n",
    "#read in printFolder, makeDefNameList, newFolder, deleteFolder, readOutput from coreFunctions.py\n",
    "from coreFunctions import *\n",
    "\n",
    "#read in plotting functionality from plottingFunctions.py\n",
    "from plottingFunctions import *\n",
    "\n",
    "call(\"rm -rf tmp*\",shell=True)\n",
    "\n",
    "dfModel = []#will contain output from our model"
   ]
  },
  {
   "cell_type": "markdown",
   "metadata": {},
   "source": [
    "## Enter Custom Inputs, then Run the Model"
   ]
  },
  {
   "cell_type": "code",
   "execution_count": 2,
   "metadata": {
    "scrolled": false
   },
   "outputs": [
    {
     "name": "stdout",
     "output_type": "stream",
     "text": [
      "Equilibrium Reached at Temp=287.09. At time=22.0\n",
      "Final Temp(K): 296.18\n",
      "\n"
     ]
    }
   ],
   "source": [
    "nameList = makeDefNamelist() #make namelist\n",
    "nameList['ebm']['lverbose']=True #controls terminal output, used for debugging\n",
    "nameList['ebm']['N0']=1041\n",
    "#earth-like, dt=190 years\n",
    "nameList['ebm']['rco2']=1.9e-4\n",
    "nameList['ebm']['rDeath']=0.0142857\n",
    "nameList['ebm']['rBirth']=0.03001\n",
    "nameList['ebm']['coupled'] = True\n",
    "\n",
    "#equilibriumTs=[]\n",
    "#pco2=[]\n",
    "\n",
    "nameList['ebm']['runTime'] = 500\n",
    "\n",
    "#change distance\n",
    "newA = 1#AU\n",
    "nameList['ebm']['relsolcon']=newA**-2 #inverse square law for solar flux\n",
    "#change pco2\n",
    "newPco2=284#orginal is 284\n",
    "nameList['ebm']['pco20']=newPco2/10**6\n",
    "\n",
    "#make temporary directory to run in\n",
    "with tempfile.TemporaryDirectory() as dirpath:\n",
    "    runFolder = newFolder(nameList,dirpath) #make the temporary folder\n",
    "    runProgram(\"driver.exe\") #windows intel compiler outputs driver.exe  (vs linux outputs driver)\n",
    "    dfModel, finalavgtemp, eqTime, eqTemp = readOutput() #read output into datframe\n",
    "    os.chdir(notePath) \n",
    "    call(\"rm -rf tmp*\", shell=True)#delete the temporary folder and unlink it's contents\n",
    "    print('Equilibrium Reached at Temp=' + str(eqTemp)+\". At time=\"+str(eqTime))\n",
    "    print('Final Temp(K): ' + str(finalavgtemp));\n",
    "    #print('Final Temp(F): ' + str(round((finalavgtemp-273.15)*(9/5)+32,2)));\n",
    "    print('')\n",
    "    call(\"echo   \", shell=True)\n",
    "    call(\"echo End of Python Notebook Reached\",shell=True)\n",
    "\n",
    "#pco2.append(i)\n",
    "#equilibriumTs.append(eqTemp)"
   ]
  },
  {
   "cell_type": "markdown",
   "metadata": {},
   "source": [
    "### Visualize Our Model's Inputs/Outputs"
   ]
  },
  {
   "cell_type": "code",
   "execution_count": 3,
   "metadata": {
    "scrolled": false
   },
   "outputs": [],
   "source": [
    "#plotModelInput(nameList)#plot the temperature dependence on the growth rate\n",
    "#plotModelOutput(dfModel,newA,eqTime,eqTemp)#plot the output of our model, colored by pco2 "
   ]
  },
  {
   "cell_type": "markdown",
   "metadata": {},
   "source": [
    "## Compare Our Output to True Values"
   ]
  },
  {
   "cell_type": "code",
   "execution_count": 4,
   "metadata": {},
   "outputs": [],
   "source": [
    "dfTemp = pd.read_csv('anomaly.csv');#data from NASA GISS: https://data.giss.nasa.gov/gistemp/graphs_v4/\n",
    "dfPopCo2 = pd.read_csv('world_stats.csv');#data from Frank, Adam, and Woodruff Sullivan.\n",
    "\n",
    "#plotTruePopCo2(dfPopCo2) #plot true population values vs pco2\n",
    "#compareModelOutput(dfModel,dfTemp,dfPopCo2)#compare the models output to true data"
   ]
  },
  {
   "cell_type": "raw",
   "metadata": {},
   "source": []
  }
 ],
 "metadata": {
  "kernelspec": {
   "display_name": "Python 3",
   "language": "python",
   "name": "python3"
  },
  "language_info": {
   "codemirror_mode": {
    "name": "ipython",
    "version": 3
   },
   "file_extension": ".py",
   "mimetype": "text/x-python",
   "name": "python",
   "nbconvert_exporter": "python",
   "pygments_lexer": "ipython3",
   "version": "3.6.8"
  }
 },
 "nbformat": 4,
 "nbformat_minor": 2
}
