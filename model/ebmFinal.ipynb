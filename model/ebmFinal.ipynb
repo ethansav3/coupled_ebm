{
 "cells": [
  {
   "cell_type": "markdown",
   "metadata": {
    "heading_collapsed": true
   },
   "source": [
    "## Libraries"
   ]
  },
  {
   "cell_type": "code",
   "execution_count": 1,
   "metadata": {
    "hidden": true,
    "scrolled": true
   },
   "outputs": [],
   "source": [
    "import tempfile\n",
    "import math\n",
    "import os\n",
    "from subprocess import call\n",
    "import matplotlib.pyplot as plt\n",
    "from f90nml import *\n",
    "from array import *\n",
    "import numpy as np\n",
    "import pandas as pd \n",
    "import seaborn as sns\n",
    "import importlib as im\n",
    "from statistics import *\n",
    "import shutil\n",
    "import sys\n",
    "import time\n",
    "from numpy import mean\n",
    "from numpy import std\n",
    "from matplotlib.ticker import FormatStrFormatter\n",
    "from scipy.stats import linregress\n",
    "from importlib import reload\n",
    "\n",
    "#read in printFolder, makeDefNameList, newFolder, deleteFolder, readOutput from coreFunctions.py\n",
    "from coreFunctions import *\n",
    "\n",
    "#read in plotting functionality from plottingFunctions.py\n",
    "from plottingFunctions import *\n",
    "\n",
    "call(\"rm -rf tmp*\",shell=True)\n",
    "\n",
    "dfModel = []#will contain output from our model"
   ]
  },
  {
   "cell_type": "markdown",
   "metadata": {},
   "source": [
    "## Run the Coupled Model"
   ]
  },
  {
   "cell_type": "code",
   "execution_count": 2,
   "metadata": {},
   "outputs": [
    {
     "name": "stdout",
     "output_type": "stream",
     "text": [
      "10000\n",
      "> /mnt/c/Users/Ethanguest.DESKTOP-VRAD7JU/OneDrive/coupled_ebm/model/coreFunctions.py(44)runModel()\n",
      "-> newMaxPop=int(j)#change max pop\n"
     ]
    },
    {
     "name": "stdin",
     "output_type": "stream",
     "text": [
      "(Pdb)  c\\\n"
     ]
    },
    {
     "name": "stdout",
     "output_type": "stream",
     "text": [
      "> /mnt/c/Users/Ethanguest.DESKTOP-VRAD7JU/OneDrive/coupled_ebm/model/coreFunctions.py(49)runModel()\n",
      "-> if(experiment == 1):\n"
     ]
    },
    {
     "name": "stdin",
     "output_type": "stream",
     "text": [
      "(Pdb)  c\n"
     ]
    },
    {
     "name": "stdout",
     "output_type": "stream",
     "text": [
      "maxPop = 8.839620987\n",
      "maxTime = 610.0463061196035\n",
      "halfPop = 4.4198104935\n",
      "LhalfTime = 535.2263198088575\n",
      "UhalfTime = 536.2239197530863\n",
      "maxPopPlot = 8.839620987\n",
      "finalPop = 4.706425761\n",
      "initPop = 82.28928799193567\n",
      "anthroPop = 82289.28799193566\n",
      "tDecline = [80.80558534235809]\n"
     ]
    },
    {
     "ename": "TypeError",
     "evalue": "list indices must be integers or slices, not str",
     "output_type": "error",
     "traceback": [
      "\u001b[0;31m---------------------------------------------------------------------------\u001b[0m",
      "\u001b[0;31mTypeError\u001b[0m                                 Traceback (most recent call last)",
      "\u001b[0;32m<ipython-input-2-3541a67c0ccf>\u001b[0m in \u001b[0;36m<module>\u001b[0;34m\u001b[0m\n\u001b[1;32m     19\u001b[0m \u001b[0mnameList\u001b[0m\u001b[0;34m[\u001b[0m\u001b[0;34m'ebm'\u001b[0m\u001b[0;34m]\u001b[0m\u001b[0;34m[\u001b[0m\u001b[0;34m'pco20'\u001b[0m\u001b[0;34m]\u001b[0m \u001b[0;34m=\u001b[0m \u001b[0mpco20\u001b[0m\u001b[0;34m*\u001b[0m\u001b[0;36m10\u001b[0m\u001b[0;34m**\u001b[0m\u001b[0;34m-\u001b[0m\u001b[0;36m6\u001b[0m\u001b[0;34m\u001b[0m\u001b[0;34m\u001b[0m\u001b[0m\n\u001b[1;32m     20\u001b[0m \u001b[0;31m#------------------------------------Run the Model----------------------------------------------------\u001b[0m\u001b[0;34m\u001b[0m\u001b[0;34m\u001b[0m\u001b[0;34m\u001b[0m\u001b[0m\n\u001b[0;32m---> 21\u001b[0;31m \u001b[0mdfModel\u001b[0m\u001b[0;34m,\u001b[0m\u001b[0mdfData\u001b[0m\u001b[0;34m,\u001b[0m\u001b[0meq\u001b[0m\u001b[0;34m,\u001b[0m \u001b[0meqTemp\u001b[0m\u001b[0;34m,\u001b[0m \u001b[0meqTime\u001b[0m\u001b[0;34m,\u001b[0m \u001b[0mpopDeath\u001b[0m \u001b[0;34m=\u001b[0m \u001b[0mrunModel\u001b[0m\u001b[0;34m(\u001b[0m\u001b[0mnameList\u001b[0m\u001b[0;34m,\u001b[0m \u001b[0mcoupled\u001b[0m\u001b[0;34m,\u001b[0m \u001b[0mrunTime\u001b[0m\u001b[0;34m,\u001b[0m \u001b[0mplot\u001b[0m\u001b[0;34m,\u001b[0m \u001b[0;34m[\u001b[0m\u001b[0msave\u001b[0m\u001b[0;34m,\u001b[0m\u001b[0mshow\u001b[0m\u001b[0;34m]\u001b[0m\u001b[0;34m,\u001b[0m \u001b[0manalyze\u001b[0m\u001b[0;34m,\u001b[0m \u001b[0;34m\"driver.exe\"\u001b[0m\u001b[0;34m,\u001b[0m \u001b[0mmaxPopList\u001b[0m\u001b[0;34m,\u001b[0m \u001b[0mdistList\u001b[0m\u001b[0;34m,\u001b[0m \u001b[0mshowInputs\u001b[0m\u001b[0;34m,\u001b[0m \u001b[0mexperiment\u001b[0m\u001b[0;34m=\u001b[0m\u001b[0;36m1\u001b[0m\u001b[0;34m,\u001b[0m \u001b[0manalyzeVerbose\u001b[0m\u001b[0;34m=\u001b[0m\u001b[0;32mTrue\u001b[0m\u001b[0;34m,\u001b[0m \u001b[0mscaleInitPop\u001b[0m\u001b[0;34m=\u001b[0m\u001b[0;32mTrue\u001b[0m\u001b[0;34m)\u001b[0m\u001b[0;34m\u001b[0m\u001b[0;34m\u001b[0m\u001b[0m\n\u001b[0m\u001b[1;32m     22\u001b[0m \u001b[0mend\u001b[0m \u001b[0;34m=\u001b[0m \u001b[0mtime\u001b[0m\u001b[0;34m.\u001b[0m\u001b[0mtime\u001b[0m\u001b[0;34m(\u001b[0m\u001b[0;34m)\u001b[0m\u001b[0;34m\u001b[0m\u001b[0;34m\u001b[0m\u001b[0m\n\u001b[1;32m     23\u001b[0m \u001b[0mprint\u001b[0m\u001b[0;34m(\u001b[0m\u001b[0mend\u001b[0m\u001b[0;34m-\u001b[0m\u001b[0mstart\u001b[0m\u001b[0;34m)\u001b[0m\u001b[0;34m\u001b[0m\u001b[0;34m\u001b[0m\u001b[0m\n",
      "\u001b[0;32m/mnt/c/Users/Ethanguest.DESKTOP-VRAD7JU/OneDrive/coupled_ebm/model/coreFunctions.py\u001b[0m in \u001b[0;36mrunModel\u001b[0;34m(nameList, coupled, runTime, plot, save, analyze, driverName, maxPopList, distList, showInputs, experiment, analyzeVerbose, printOutput, scaleInitPop)\u001b[0m\n\u001b[1;32m     47\u001b[0m         \u001b[0mpopStats\u001b[0m \u001b[0;34m=\u001b[0m \u001b[0;34m{\u001b[0m\u001b[0;34m}\u001b[0m\u001b[0;34m\u001b[0m\u001b[0;34m\u001b[0m\u001b[0m\n\u001b[1;32m     48\u001b[0m         \u001b[0mpdb\u001b[0m\u001b[0;34m.\u001b[0m\u001b[0mset_trace\u001b[0m\u001b[0;34m(\u001b[0m\u001b[0;34m)\u001b[0m\u001b[0;34m\u001b[0m\u001b[0;34m\u001b[0m\u001b[0m\n\u001b[0;32m---> 49\u001b[0;31m         \u001b[0;32mif\u001b[0m\u001b[0;34m(\u001b[0m\u001b[0mexperiment\u001b[0m \u001b[0;34m==\u001b[0m \u001b[0;36m1\u001b[0m\u001b[0;34m)\u001b[0m\u001b[0;34m:\u001b[0m\u001b[0;34m\u001b[0m\u001b[0;34m\u001b[0m\u001b[0m\n\u001b[0m\u001b[1;32m     50\u001b[0m             dictdTdP= {\n\u001b[1;32m     51\u001b[0m             \u001b[0;36m0.94\u001b[0m \u001b[0;34m:\u001b[0m \u001b[0;36m6.178\u001b[0m\u001b[0;34m*\u001b[0m\u001b[0;36m10\u001b[0m\u001b[0;34m**\u001b[0m\u001b[0;34m-\u001b[0m\u001b[0;36m2\u001b[0m\u001b[0;34m,\u001b[0m\u001b[0;34m\u001b[0m\u001b[0;34m\u001b[0m\u001b[0m\n",
      "\u001b[0;31mTypeError\u001b[0m: list indices must be integers or slices, not str"
     ]
    }
   ],
   "source": [
    "start = time.time()\n",
    "nameList = makeDefNamelist() #make namelist\n",
    "#-------------------------------------Boolean Inputs--------------------------------------------------\n",
    "plot=True;#make the fancy plots?\n",
    "save = False;\n",
    "show = False;\n",
    "coupled=True;\n",
    "analyze = True #whether or not to analyze the population parts of model\n",
    "lverbose=False #controls terminal output, used for debugging\n",
    "showInputs = False #prints the namelist before running the program\n",
    "exp =1\n",
    "runTime=3000                          #Change runtime           (years)\n",
    "#-------------------------------------Other Important Inputs-------------------------------------------------# maxPopList = [10000,40000,70000,100000] #specify all maxpops to use\n",
    "distList= [1] #specify all distances to use\n",
    "maxPopList = [10000]\n",
    "pco20 =  284\n",
    "#----------------------------------Set NameList Values to Specified Inputs---------------------\n",
    "nameList['ebm']['lverbose'] = lverbose\n",
    "nameList['ebm']['pco20'] = pco20*10**-6\n",
    "#------------------------------------Run the Model----------------------------------------------------\n",
    "dfModel,dfData,eq, eqTemp, eqTime, popDeath = runModel(nameList, coupled, runTime, plot, [save,show], analyze, \"driver.exe\", maxPopList, distList, showInputs, experiment=1, analyzeVerbose=True, scaleInitPop=True)\n",
    "end = time.time()\n",
    "print(end-start)\n",
    "#print(popDeath)#number of people that have died in the time range of 2 generations after peak\n",
    "#finalTemp = dfModel['temp'][dfModel.index[-1]] #find final temperature\n",
    "#------------------------------------Plot the Results----------------------------------------------\n",
    "#dfTemp = pd.read_csv('anomaly.csv');#data from NASA GISS: https://data.giss.nasa.gov/gistemp/graphs_v4/\n",
    "#dfPopCo2 = pd.read_csv('world_stats.csv');#data from Frank, Adam, and Woodruff Sullivan.\n",
    "#compareModelOutput(dfModel,dfTemp,dfPopCo2,eqTime)#compare the models output to true data\n",
    "#call(\"echo End of Python Notebook Reached\", shell=True);"
   ]
  },
  {
   "cell_type": "code",
   "execution_count": null,
   "metadata": {},
   "outputs": [],
   "source": [
    "popStats"
   ]
  },
  {
   "cell_type": "code",
   "execution_count": null,
   "metadata": {},
   "outputs": [],
   "source": [
    "for i in ['10']:\n",
    "    print(i)"
   ]
  },
  {
   "cell_type": "markdown",
   "metadata": {
    "toc-hr-collapsed": true,
    "toc-nb-collapsed": true
   },
   "source": [
    "## Run The Experiments"
   ]
  },
  {
   "cell_type": "code",
   "execution_count": null,
   "metadata": {},
   "outputs": [],
   "source": [
    "nameList = makeDefNamelist() #make namelist\n",
    "\n",
    "#-------------------------------------Experiment #1-------------------------------------------------\n",
    "#minD, maxD = habitableZoneFinder_exp1(nameList, False) #lverbose=False, printOutput=False\n",
    "#print(f\"Max: {maxD}, Min: {minD}\")\n",
    "# distLin= np.linspace(.94,1.02,5) #specify all distances to use, linearly spaced\n",
    "# dictData_exp1 = regionSweep(distLin, nameList, verbose=False, exp=1)\n",
    "# linearRegressions(dictData_exp1, distLin, plotSlopes=True, plotData=True, saveName=\"exp1\")\n",
    "\n",
    "#-------------------------------------Experiment #2----------------------------------------------------\n",
    "# #minD, maxD = habitableZoneFinder_exp2(nameList, lverbose=True)\n",
    "# #print(f\"Max: {maxD}, Min: {minD}\")\n",
    "distances = np.round(np.linspace(0.975, 1.105, 5),4)\n",
    "#distances = np.asarray([0.975, 1.04])\n",
    "# #distances=np.asarray([0.975])\n",
    "# # for i in distances:\n",
    "# #     pc02 = pco2Finder(287.09, nameList, i, lverbose=True)\n",
    "# #     print(f\"Distance: {i:.4f} AU,  pCO20={pc02}\")\n",
    "#dictData_exp2 = regionSweep(distances, nameList, verbose=False, exp=2)\n",
    "#linearRegressions(dictData_exp2, distances, plotSlopes=True, plotData=True, saveName=\"exp2\")"
   ]
  },
  {
   "cell_type": "markdown",
   "metadata": {},
   "source": [
    "## Make Plots for Experiments"
   ]
  },
  {
   "cell_type": "code",
   "execution_count": null,
   "metadata": {},
   "outputs": [],
   "source": [
    "# start = time.time()\n",
    "# nameList = makeDefNamelist() #make namelist\n",
    "# #-------------------------------------Boolean Inputs------------------------------------------------#\n",
    "# plot=True;#make the fancy plots?\n",
    "# save=True#save the plots\n",
    "# coupled=True;\n",
    "# analyze = True #whether or not to analyze the population parts of model\n",
    "# lverbose=False #controls terminal output, used for debugging\n",
    "# showInputs = False #prints the namelist before running the program\n",
    "# save = True\n",
    "# show = False\n",
    "# runTime=4000 #Change runtime(years)\n",
    "# #-------------------------------------Experiment #1-------------------------------------------------# \n",
    "# exp=1\n",
    "# distList= np.round(np.linspace(0.94, 1.02, 5),4) #specify all distances to use\n",
    "# maxPopList = [10000, 40000, 70000, 100000]\n",
    "# # distList = [0.94]\n",
    "# # maxPopList = [10000]\n",
    "# pco20 =  284\n",
    "# nameList['ebm']['lverbose'] = lverbose\n",
    "# nameList['ebm']['pco20'] = pco20*10**-6\n",
    "# dfModel,dfData,eqList_exp1, eqTempList_exp1, eqTimeList_exp1, popDeathList_exp1 = runModel(nameList, coupled, runTime, plot, [save,show], analyze,\"driver.exe\",maxPopList,distList,showInputs,experiment=exp, scaleInitPop=True)\n",
    "# # #-------------------------------------Experiment #2-------------------------------------------------#\n",
    "# exp=2\n",
    "# distList= np.round(np.linspace(0.975, 1.105, 5),4) #specify all distances to use\n",
    "# maxPopList = [10000, 40000, 70000, 100000]\n",
    "# # distList = [0.975]\n",
    "# # maxPopList = [10000]\n",
    "# nameList['ebm']['lverbose'] = lverbose\n",
    "# dfModel,dfData,eqList_exp2, eqTempList_exp2, eqTimeList_exp2, popDeathList_exp2 = runModel(nameList, coupled, runTime, plot, [save,show], analyze,\"driver.exe\",maxPopList,distList,showInputs,experiment=exp, scaleInitPop=True)\n",
    "# #---------------------------------------------------------------------------------------------------#\n",
    "# end = time.time()\n",
    "# print(end-start)"
   ]
  }
 ],
 "metadata": {
  "kernelspec": {
   "display_name": "Python 3",
   "language": "python",
   "name": "python3"
  },
  "language_info": {
   "codemirror_mode": {
    "name": "ipython",
    "version": 3
   },
   "file_extension": ".py",
   "mimetype": "text/x-python",
   "name": "python",
   "nbconvert_exporter": "python",
   "pygments_lexer": "ipython3",
   "version": "3.6.9"
  }
 },
 "nbformat": 4,
 "nbformat_minor": 4
}
