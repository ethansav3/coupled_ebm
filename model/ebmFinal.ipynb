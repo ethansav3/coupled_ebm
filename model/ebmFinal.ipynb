{
 "cells": [
  {
   "cell_type": "markdown",
   "metadata": {
    "heading_collapsed": true
   },
   "source": [
    "## Libraries"
   ]
  },
  {
   "cell_type": "code",
   "execution_count": 1,
   "metadata": {
    "hidden": true
   },
   "outputs": [],
   "source": [
    "import tempfile\n",
    "import math\n",
    "import os\n",
    "from subprocess import call\n",
    "import matplotlib.pyplot as plt\n",
    "from f90nml import *\n",
    "from array import *\n",
    "import numpy as np\n",
    "import pandas as pd \n",
    "import seaborn as sns\n",
    "from statistics import *\n",
    "import shutil\n",
    "import sys\n",
    "import time\n",
    "from matplotlib.ticker import FormatStrFormatter\n",
    "\n",
    "#read in printFolder, makeDefNameList, newFolder, deleteFolder, readOutput from coreFunctions.py\n",
    "from coreFunctions import *\n",
    "\n",
    "#read in plotting functionality from plottingFunctions.py\n",
    "from plottingFunctions import *\n",
    "\n",
    "call(\"rm -rf tmp*\",shell=True)\n",
    "\n",
    "dfModel = []#will contain output from our model"
   ]
  },
  {
   "cell_type": "markdown",
   "metadata": {},
   "source": [
    "## Enter Custom Inputs, then Run the Model"
   ]
  },
  {
   "cell_type": "code",
   "execution_count": 2,
   "metadata": {
    "scrolled": false
   },
   "outputs": [
    {
     "name": "stdout",
     "output_type": "stream",
     "text": [
      "Equilibrium Reached at Temp=278.369. At time=24.0\n",
      "Final Temp(K): 278.31\n",
      "Final Temp(F): 41.29\n",
      "\n",
      "True\n"
     ]
    },
    {
     "ename": "NameError",
     "evalue": "name 'coupled' is not defined",
     "output_type": "error",
     "traceback": [
      "\u001b[0;31m---------------------------------------------------------------------------\u001b[0m",
      "\u001b[0;31mNameError\u001b[0m                                 Traceback (most recent call last)",
      "\u001b[0;32m<ipython-input-2-dcb930e5ebd6>\u001b[0m in \u001b[0;36m<module>\u001b[0;34m\u001b[0m\n\u001b[1;32m     24\u001b[0m \u001b[0;31m#plot the results\u001b[0m\u001b[0;34m\u001b[0m\u001b[0;34m\u001b[0m\u001b[0;34m\u001b[0m\u001b[0m\n\u001b[1;32m     25\u001b[0m \u001b[0msaveName\u001b[0m\u001b[0;34m=\u001b[0m\u001b[0;36m2\u001b[0m\u001b[0;34m;\u001b[0m\u001b[0;34m\u001b[0m\u001b[0;34m\u001b[0m\u001b[0m\n\u001b[0;32m---> 26\u001b[0;31m \u001b[0;32mif\u001b[0m \u001b[0mcoupled\u001b[0m\u001b[0;34m:\u001b[0m\u001b[0;34m\u001b[0m\u001b[0;34m\u001b[0m\u001b[0m\n\u001b[0m\u001b[1;32m     27\u001b[0m     \u001b[0mpopStats\u001b[0m \u001b[0;34m=\u001b[0m \u001b[0manalyzeRun\u001b[0m\u001b[0;34m(\u001b[0m\u001b[0mdfModel\u001b[0m\u001b[0;34m,\u001b[0m\u001b[0mnameList\u001b[0m\u001b[0;34m,\u001b[0m\u001b[0;32mTrue\u001b[0m\u001b[0;34m)\u001b[0m\u001b[0;31m#get population statistics\u001b[0m\u001b[0;34m\u001b[0m\u001b[0;34m\u001b[0m\u001b[0m\n\u001b[1;32m     28\u001b[0m     \u001b[0mpopStats\u001b[0m\u001b[0;34m[\u001b[0m\u001b[0;34m'maxPopPlot'\u001b[0m\u001b[0;34m]\u001b[0m\u001b[0;34m=\u001b[0m\u001b[0mpopStats\u001b[0m\u001b[0;34m[\u001b[0m\u001b[0;34m'maxPop'\u001b[0m\u001b[0;34m]\u001b[0m\u001b[0;34m;\u001b[0m\u001b[0;31m#maximum population range\u001b[0m\u001b[0;34m\u001b[0m\u001b[0;34m\u001b[0m\u001b[0m\n",
      "\u001b[0;31mNameError\u001b[0m: name 'coupled' is not defined"
     ]
    }
   ],
   "source": [
    "nameList = makeDefNamelist() #make namelist\n",
    "nameList['ebm']['lverbose']=False #controls terminal output, used for debugging\n",
    "nameList['ebm']['rBirth']=.0252;\n",
    "nameList['ebm']['rDeath']=.0142857;\n",
    "nameList['ebm']['rco2']=2.00e-4;\n",
    "\n",
    "#specify inputs\n",
    "coupled=False;\n",
    "\n",
    "runTime=2000#change runtime(years)\n",
    "newA = 1#change distance (AU)\n",
    "newPco2=28#change pco2 (ppm)\n",
    "\n",
    "#run the program\n",
    "nameList['ebm']['coupled']=coupled\n",
    "nameList['ebm']['pco20']=newPco2/10**6#convert pco2 to bars\n",
    "nameList['ebm']['relsolcon']=newA**-2 #inverse square law for solar flux\n",
    "nameList['ebm']['runTime'] = runTime#change runtime\n",
    "dfModel, finalavgtemp, eqTime, eqTemp, equilibrium = runProgram(\"driver.exe\",nameList)\n",
    "\n",
    "#determine habitability\n",
    "life = (equilibrium) and (eqTemp<=373.15) and (eqTemp>=273.15)\n",
    "print(life)\n",
    "\n",
    "#plot the results\n",
    "saveName=2;\n",
    "if coupled:\n",
    "    popStats = analyzeRun(dfModel,nameList,True)#get population statistics\n",
    "    popStats['maxPopPlot']=popStats['maxPop'];#maximum population range\n",
    "    if equilibrium: plotModelOutput(dfModel,inputs,eqTime,eqTemp,popStats,save,saveName)#plot the output of our model, colored by pco2 \n",
    "    inputs=[newA,newPco2,runTime]\n",
    "    save=True;#save the file"
   ]
  },
  {
   "cell_type": "markdown",
   "metadata": {
    "heading_collapsed": true
   },
   "source": [
    "## Model Analysis"
   ]
  },
  {
   "cell_type": "code",
   "execution_count": null,
   "metadata": {
    "hidden": true,
    "scrolled": false
   },
   "outputs": [],
   "source": [
    "#dfTemp = pd.read_csv('anomaly.csv');#data from NASA GISS: https://data.giss.nasa.gov/gistemp/graphs_v4/\n",
    "#dfPopCo2 = pd.read_csv('world_stats.csv');#data from Frank, Adam, and Woodruff Sullivan.\n",
    "#plotModelInput(nameList)#plot the temperature dependence on the growth rate\n",
    "#plotTruePopCo2(dfPopCo2) #plot true population values vs pco2\n",
    "#compareModelOutput(dfModel,dfTemp,dfPopCo2)#compare the models output to true data"
   ]
  }
 ],
 "metadata": {
  "kernelspec": {
   "display_name": "Python 3",
   "language": "python",
   "name": "python3"
  },
  "language_info": {
   "codemirror_mode": {
    "name": "ipython",
    "version": 3
   },
   "file_extension": ".py",
   "mimetype": "text/x-python",
   "name": "python",
   "nbconvert_exporter": "python",
   "pygments_lexer": "ipython3",
   "version": "3.6.8"
  }
 },
 "nbformat": 4,
 "nbformat_minor": 2
}
