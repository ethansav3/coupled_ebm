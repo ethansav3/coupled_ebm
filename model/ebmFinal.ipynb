{
 "cells": [
  {
   "cell_type": "markdown",
   "metadata": {},
   "source": [
    "## Libraries"
   ]
  },
  {
   "cell_type": "code",
   "execution_count": 1,
   "metadata": {},
   "outputs": [],
   "source": [
    "import tempfile\n",
    "import math\n",
    "import os\n",
    "from subprocess import call\n",
    "import matplotlib.pyplot as plt\n",
    "from f90nml import *\n",
    "from array import *\n",
    "import numpy as np\n",
    "import pandas as pd \n",
    "import seaborn as sns\n",
    "from statistics import *\n",
    "import shutil\n",
    "import sys\n",
    "from matplotlib.ticker import FormatStrFormatter\n",
    "\n",
    "#read in printFolder, makeDefNameList, newFolder, deleteFolder, readOutput from coreFunctions.py\n",
    "from coreFunctions import *\n",
    "\n",
    "#read in plotting functionality from plottingFunctions.py\n",
    "from plottingFunctions import *\n",
    "\n",
    "call(\"rm -rf tmp*\",shell=True)\n",
    "\n",
    "dfModel = []#will contain output from our model"
   ]
  },
  {
   "cell_type": "markdown",
   "metadata": {},
   "source": [
    "## Enter Custom Inputs, then Run the Model"
   ]
  },
  {
   "cell_type": "code",
   "execution_count": 2,
   "metadata": {
    "scrolled": true
   },
   "outputs": [
    {
     "name": "stdout",
     "output_type": "stream",
     "text": [
      "Equilibrium Reached at Temp=287.09. At time=22.0\n",
      "Final Temp(K): 295.29\n",
      "Final Temp(F): 71.85\n",
      "\n",
      "Yay, Life!\n"
     ]
    }
   ],
   "source": [
    "nameList = makeDefNamelist() #make namelist\n",
    "nameList['ebm']['lverbose']=True #controls terminal output, used for debugging\n",
    "nameList['ebm']['rBirth']=.0252;\n",
    "nameList['ebm']['rDeath']=.0142857;\n",
    "nameList['ebm']['rco2']=2.00e-4;\n",
    "nameList['ebm']['coupled']=True;\n",
    "\n",
    "#change runtime\n",
    "nameList['ebm']['runTime'] = 2000#change runtime\n",
    "\n",
    "#change distance\n",
    "newA = 1#AU\n",
    "nameList['ebm']['relsolcon']=newA**-2 #inverse square law for solar flux\n",
    "\n",
    "\n",
    "#change pco2\n",
    "#newPco2=284\n",
    "newPco2=284\n",
    "nameList['ebm']['pco20']=newPco2/10**6\n",
    "\n",
    "#run the program\n",
    "dfModel, finalavgtemp, eqTime, eqTemp, equilibrium = runProgram(\"driver.exe\",nameList)\n",
    "\n",
    "if((equilibrium) and (finalavgtemp<=373.15) and (finalavgtemp>=273.15)): \n",
    "    print(\"Yay, Life!\")\n",
    "else:\n",
    "    print(\"Boo, Extinction :(\")"
   ]
  },
  {
   "cell_type": "markdown",
   "metadata": {},
   "source": [
    "## Model Analysis"
   ]
  },
  {
   "cell_type": "code",
   "execution_count": 20,
   "metadata": {
    "scrolled": false
   },
   "outputs": [
    {
     "name": "stdout",
     "output_type": "stream",
     "text": [
      "\n",
      "maxPop = 37.668\n",
      "maxTime = 425.47595507896676\n",
      "halfPop = 18.834\n",
      "halfTime = 425.47595507896676\n",
      "LhalfTime = 0\n",
      "UhalfTime = 0\n",
      "maxPopPlot = 60\n"
     ]
    }
   ],
   "source": [
    "inputs=[newA,newPco2]\n",
    "maxima = dfModel.max();#find maxima from all columns in df\n",
    "maxPop = maxima[3];#find maxima in population column, peak popultion\n",
    "#print(maxPop)#peak population\n",
    "maxPopIndex = dfModel.loc[dfModel['pop']==maxPop].index#search rows for index of max pop\n",
    "maxPopTime=dfModel.iloc[maxPopIndex]['time_yrs'];#search column for time until peak pop is reached\n",
    "\n",
    "halfPop=maxPop/2;\n",
    "halfPopIndex = dfModel.loc[dfModel['pop']==halfPop].index#search rows for index of max pop\n",
    "halfPopTime=dfModel.iloc[maxPopIndex]['time_yrs'];#search column for time until peak pop is reached\n",
    "#print(maxPop/2)\n",
    "#while newDF.shape[0]>=2:\n",
    "#     newDF= dfModel.loc[(dfModel['pop'] > (halfPop-dP)) & (dfModel['pop'] < (halfPop+dP))]\n",
    "#     dT+=1\n",
    "#     print(\"dT: \"+ str(dT))\n",
    "\n",
    "LhalfPop=0;\n",
    "UhalfPop=0;\n",
    "dP=50\n",
    "count=1\n",
    "while True:    \n",
    "    newDF= dfModel.loc[(dfModel['pop'] > (halfPop-dP)) & (dfModel['pop'] < (halfPop+dP))]\n",
    "    if(newDF.shape[0]>=2):\n",
    "        break\n",
    "    dP+=100\n",
    "    count+=5\n",
    "#print(dP)\n",
    "#print(newDF)\n",
    "#print()\n",
    "try:\n",
    "    if(nameList['ebm']['coupled']):\n",
    "        LhalfPop = newDF.time_yrs.iloc[0]#dataframe, time column, first index\n",
    "        UhalfPop = newDF.time_yrs[-1:])#gets last row, \" \" \n",
    "except TypeError:\n",
    "    print('')\n",
    "maxPopPlot=maxPop/1000;\n",
    "#maxPopPlot=40\n",
    "#dictionary of population statistics\n",
    "popStats={'maxPop' : (maxPop/1000), 'maxTime': maxPopTime.mean(),\n",
    "          'halfPop': (halfPop/1000),'halfTime': halfPopTime.mean(),\n",
    "          'LhalfTime': LhalfPop,\n",
    "          'UhalfTime': UhalfPop,\n",
    "          'maxPopPlot': 60}#maximum plotting range for population\n",
    "for k,v in popStats.items():\n",
    "    print(k + \" = \" +str(v))\n",
    "#-----------------------------------PLOTS----------------------------------------------------------\n",
    "#if equilibrium: plotModelOutput(dfModel,inputs,eqTime,eqTemp,popStats)#plot the output of our model, colored by pco2 \n",
    "#dfTemp = pd.read_csv('anomaly.csv');#data from NASA GISS: https://data.giss.nasa.gov/gistemp/graphs_v4/\n",
    "#dfPopCo2 = pd.read_csv('world_stats.csv');#data from Frank, Adam, and Woodruff Sullivan.\n",
    "#plotModelInput(nameList)#plot the temperature dependence on the growth rate\n",
    "#plotTruePopCo2(dfPopCo2) #plot true population values vs pco2\n",
    "#compareModelOutput(dfModel,dfTemp,dfPopCo2)#compare the models output to true data"
   ]
  },
  {
   "cell_type": "code",
   "execution_count": 19,
   "metadata": {},
   "outputs": [
    {
     "name": "stdout",
     "output_type": "stream",
     "text": [
      "Sliced dataframe\n",
      "             time    temp      pco2      pop    time_yrs  pco2_ppm\n",
      "268  9.177400e+09  289.39  0.000632  18685.0  290.814257    632.38\n",
      "269  9.208900e+09  289.41  0.000636  18849.0  291.812432    636.12\n",
      "525  1.726800e+10  294.53  0.002182  18925.0  547.189900   2181.80\n",
      "526  1.730000e+10  294.54  0.002186  18728.0  548.203919   2185.60\n",
      "\n",
      "first element\n",
      "290.8142571044693\n",
      "\n",
      "last element\n",
      "548.2039191827008\n"
     ]
    }
   ],
   "source": [
    "print(\"Sliced dataframe\")\n",
    "print(newDF)\n",
    "print(\"\\n\"+\"first element\")\n",
    "print(newDF.time_yrs.iloc[0])#dataframe, time column, last index\n",
    "print(\"\\n\"+\"last element\")\n",
    "print(newDF.time_yrs.iloc[-1])#dataframe, time column, last index"
   ]
  },
  {
   "cell_type": "code",
   "execution_count": null,
   "metadata": {},
   "outputs": [],
   "source": []
  }
 ],
 "metadata": {
  "kernelspec": {
   "display_name": "Python 3",
   "language": "python",
   "name": "python3"
  },
  "language_info": {
   "codemirror_mode": {
    "name": "ipython",
    "version": 3
   },
   "file_extension": ".py",
   "mimetype": "text/x-python",
   "name": "python",
   "nbconvert_exporter": "python",
   "pygments_lexer": "ipython3",
   "version": "3.6.8"
  }
 },
 "nbformat": 4,
 "nbformat_minor": 2
}
